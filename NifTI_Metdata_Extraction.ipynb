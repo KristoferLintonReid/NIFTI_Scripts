{
 "cells": [
  {
   "cell_type": "code",
   "execution_count": 1,
   "metadata": {},
   "outputs": [],
   "source": [
    "#### Imports for MetData_Extraction\n",
    "import os\n",
    "import numpy as np\n",
    "import nibabel as nib"
   ]
  },
  {
   "cell_type": "code",
   "execution_count": 2,
   "metadata": {},
   "outputs": [],
   "source": [
    "input_path='/home/kl2418/Documents/PyRadiome/Resampling/test/'"
   ]
  },
  {
   "cell_type": "code",
   "execution_count": 3,
   "metadata": {},
   "outputs": [],
   "source": [
    "output_path='/home/kl2418/Documents/PyRadiome/Resampling/test/'"
   ]
  },
  {
   "cell_type": "code",
   "execution_count": null,
   "metadata": {},
   "outputs": [],
   "source": []
  },
  {
   "cell_type": "code",
   "execution_count": 4,
   "metadata": {},
   "outputs": [],
   "source": [
    "def Get_Metdata(input_path, output_path):\n",
    "    Rs = []\n",
    "    input_list = []\n",
    "    input_list += [each for each in os.listdir(input_path) if each.endswith('.nii') or each.endswith('.nii.gz')]\n",
    "    for i in input_list: \n",
    "        img = nib.load(input_path +i)\n",
    "        hdr = img.header\n",
    "        data = (\n",
    "                [\"Header_Type\", str(hdr['sizeof_hdr'])],\n",
    "                [\"vox_offset\", str(hdr['vox_offset'])],\n",
    "                [\"scl_slope\", str(hdr[\"scl_slope\"])],\n",
    "                [\"scl_inter\", str(hdr['scl_inter'])],\n",
    "                [\"vox_offset\", str(hdr['vox_offset'])],\n",
    "                [\"slice_end\", str(hdr['slice_end'])],\n",
    "                [\"slice_code\", str(hdr['slice_code'])],\n",
    "                [\"xyzt_units\", str(hdr['xyzt_units'])],\n",
    "                [\"qform_code\", str(hdr[\"qform_code\"])],\n",
    "                [\"sform_code\", str(hdr['sform_code'])])\n",
    "        Rs.append(np.array(data)[:,1])\n",
    "        A = np.array(data)[:,0]\n",
    "        A = np.vstack([A, Rs])\n",
    "        np.savetxt(input_path + \"NiFTI_Header_Data.csv\", A, delimiter=\",\", fmt='%s')"
   ]
  },
  {
   "cell_type": "code",
   "execution_count": 5,
   "metadata": {},
   "outputs": [],
   "source": [
    "Get_Metdata(input_path, output_path)"
   ]
  },
  {
   "cell_type": "code",
   "execution_count": null,
   "metadata": {},
   "outputs": [],
   "source": []
  },
  {
   "cell_type": "code",
   "execution_count": 16,
   "metadata": {},
   "outputs": [],
   "source": [
    "### if you want additonal information add to the \"data\" object \n",
    "### for instance: add line \n",
    "#### ,[\"qoffset_y\", str(hdr['qoffset_y'])]"
   ]
  }
 ],
 "metadata": {
  "kernelspec": {
   "display_name": "Python 3",
   "language": "python",
   "name": "python3"
  },
  "language_info": {
   "codemirror_mode": {
    "name": "ipython",
    "version": 3
   },
   "file_extension": ".py",
   "mimetype": "text/x-python",
   "name": "python",
   "nbconvert_exporter": "python",
   "pygments_lexer": "ipython3",
   "version": "3.8.5"
  }
 },
 "nbformat": 4,
 "nbformat_minor": 4
}
